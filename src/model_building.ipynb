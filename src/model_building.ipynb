{
 "cells": [
  {
   "cell_type": "code",
   "execution_count": 1,
   "metadata": {
    "scrolled": true
   },
   "outputs": [
    {
     "name": "stdout",
     "output_type": "stream",
     "text": [
      "img_0001.png\n",
      "(<tf.Tensor: shape=(), dtype=string, numpy=b'../dataset/png_images/IMAGES/img_0001.png'>, <tf.Tensor: shape=(), dtype=string, numpy=b'../dataset/png_masks/MASKS/seg_0001.png'>)\n",
      "(<tf.Tensor: shape=(), dtype=string, numpy=b'../dataset/png_images/IMAGES/img_0002.png'>, <tf.Tensor: shape=(), dtype=string, numpy=b'../dataset/png_masks/MASKS/seg_0002.png'>)\n",
      "(<tf.Tensor: shape=(), dtype=string, numpy=b'../dataset/png_images/IMAGES/img_0004.png'>, <tf.Tensor: shape=(), dtype=string, numpy=b'../dataset/png_masks/MASKS/seg_0004.png'>)\n",
      "(<tf.Tensor: shape=(), dtype=string, numpy=b'../dataset/val_dataset/png_images/IMAGES/img_0003.png'>, <tf.Tensor: shape=(), dtype=string, numpy=b'../dataset/val_dataset/png_masks/MASKS/seg_0003.png'>)\n",
      "(<tf.Tensor: shape=(), dtype=string, numpy=b'../dataset/val_dataset/png_images/IMAGES/img_0010.png'>, <tf.Tensor: shape=(), dtype=string, numpy=b'../dataset/val_dataset/png_masks/MASKS/seg_0010.png'>)\n",
      "(<tf.Tensor: shape=(), dtype=string, numpy=b'../dataset/val_dataset/png_images/IMAGES/img_0018.png'>, <tf.Tensor: shape=(), dtype=string, numpy=b'../dataset/val_dataset/png_masks/MASKS/seg_0018.png'>)\n",
      "(825, 550, 3) (825, 550)\n"
     ]
    }
   ],
   "source": [
    "import tensorflow as tf\n",
    "from dataset_preprocess import train_ds, val_ds\n",
    "from transformers import TFSegformerForSemanticSegmentation\n",
    "from transformers import create_optimizer\n",
    "from tensorflow.keras.optimizers import Adam\n",
    "from tensorflow.keras.callbacks import ModelCheckpoint\n",
    "from transformers.keras_callbacks import KerasMetricCallback\n",
    "import pandas as pd\n",
    "import evaluate\n",
    "# from tensorflow.keras.models import load_model"
   ]
  },
  {
   "cell_type": "markdown",
   "metadata": {},
   "source": [
    "## Model"
   ]
  },
  {
   "cell_type": "code",
   "execution_count": 2,
   "metadata": {},
   "outputs": [],
   "source": [
    "df = pd.read_csv('../dataset/labels.csv')"
   ]
  },
  {
   "cell_type": "code",
   "execution_count": 3,
   "metadata": {},
   "outputs": [],
   "source": [
    "id2label = {}\n",
    "for i,j in df.iterrows():\n",
    "    if i==0:\n",
    "        id2label[i] = 'nan'\n",
    "    else:\n",
    "        id2label[i] = j['label_list']"
   ]
  },
  {
   "cell_type": "code",
   "execution_count": 4,
   "metadata": {},
   "outputs": [],
   "source": [
    "label2id = {label : id for id, label in id2label.items()}"
   ]
  },
  {
   "cell_type": "code",
   "execution_count": 5,
   "metadata": {},
   "outputs": [
    {
     "name": "stdout",
     "output_type": "stream",
     "text": [
      "{'nan': 0, 'accessories': 1, 'bag': 2, 'belt': 3, 'blazer': 4, 'blouse': 5, 'bodysuit': 6, 'boots': 7, 'bra': 8, 'bracelet': 9, 'cape': 10, 'cardigan': 11, 'clogs': 12, 'coat': 13, 'dress': 14, 'earrings': 15, 'flats': 16, 'glasses': 17, 'gloves': 18, 'hair': 19, 'hat': 20, 'heels': 21, 'hoodie': 22, 'intimate': 23, 'jacket': 24, 'jeans': 25, 'jumper': 26, 'leggings': 27, 'loafers': 28, 'necklace': 29, 'panties': 30, 'pants': 31, 'pumps': 32, 'purse': 33, 'ring': 34, 'romper': 35, 'sandals': 36, 'scarf': 37, 'shirt': 38, 'shoes': 39, 'shorts': 40, 'skin': 41, 'skirt': 42, 'sneakers': 43, 'socks': 44, 'stockings': 45, 'suit': 46, 'sunglasses': 47, 'sweater': 48, 'sweatshirt': 49, 'swimwear': 50, 't-shirt': 51, 'tie': 52, 'tights': 53, 'top': 54, 'vest': 55, 'wallet': 56, 'watch': 57, 'wedges': 58}\n",
      "59\n"
     ]
    }
   ],
   "source": [
    "print(label2id)\n",
    "print(len(label2id))"
   ]
  },
  {
   "cell_type": "code",
   "execution_count": 6,
   "metadata": {},
   "outputs": [
    {
     "name": "stderr",
     "output_type": "stream",
     "text": [
      "All model checkpoint layers were used when initializing TFSegformerForSemanticSegmentation.\n",
      "\n",
      "Some weights of TFSegformerForSemanticSegmentation were not initialized from the model checkpoint at nvidia/segformer-b5-finetuned-cityscapes-1024-1024 and are newly initialized because the shapes did not match:\n",
      "- decode_head/classifier/kernel:0: found shape (1, 1, 768, 19) in the checkpoint and (1, 1, 768, 59) in the model instantiated\n",
      "- decode_head/classifier/bias:0: found shape (19,) in the checkpoint and (59,) in the model instantiated\n",
      "You should probably TRAIN this model on a down-stream task to be able to use it for predictions and inference.\n"
     ]
    }
   ],
   "source": [
    "model_id = \"nvidia/segformer-b5-finetuned-cityscapes-1024-1024\"\n",
    "model = TFSegformerForSemanticSegmentation.from_pretrained(\n",
    "    model_id,\n",
    "    num_labels = len(label2id),\n",
    "    id2label = id2label,\n",
    "    label2id = label2id, \n",
    "    ignore_mismatched_sizes = True\n",
    ")"
   ]
  },
  {
   "cell_type": "code",
   "execution_count": 7,
   "metadata": {},
   "outputs": [
    {
     "name": "stdout",
     "output_type": "stream",
     "text": [
      "Model: \"tf_segformer_for_semantic_segmentation\"\n",
      "_________________________________________________________________\n",
      " Layer (type)                Output Shape              Param #   \n",
      "=================================================================\n",
      " segformer (TFSegformerMainL  multiple                 81443008  \n",
      " ayer)                                                           \n",
      "                                                                 \n",
      " decode_head (TFSegformerDec  multiple                 3197243   \n",
      " odeHead)                                                        \n",
      "                                                                 \n",
      "=================================================================\n",
      "Total params: 84,640,251\n",
      "Trainable params: 84,638,715\n",
      "Non-trainable params: 1,536\n",
      "_________________________________________________________________\n"
     ]
    }
   ],
   "source": [
    "model.summary()"
   ]
  },
  {
   "cell_type": "code",
   "execution_count": 8,
   "metadata": {},
   "outputs": [
    {
     "data": {
      "text/plain": [
       "TensorShape([1, 59, 128, 128])"
      ]
     },
     "execution_count": 8,
     "metadata": {},
     "output_type": "execute_result"
    }
   ],
   "source": [
    "H,W = 512, 512\n",
    "model(tf.zeros([1,3,H,W])).logits.shape"
   ]
  },
  {
   "cell_type": "markdown",
   "metadata": {},
   "source": [
    "## Training & Evaluation"
   ]
  },
  {
   "cell_type": "code",
   "execution_count": 9,
   "metadata": {},
   "outputs": [],
   "source": [
    "def compute_metrics(eval_pred):\n",
    "    logits, labels = eval_pred\n",
    "    logits = tf.transpose(logits, perm[0,2,3,1])\n",
    "    logits_resized = tf.image.resize(\n",
    "        logits,\n",
    "        size=tf.shape(labels)[1:],\n",
    "        method=\"bilinear\"\n",
    "    )\n",
    "    pred_labels = tf.argmax(logits_resized, axis=-1)\n",
    "\n",
    "    metrics = metrics.compute(\n",
    "        predictions = pred_labels,\n",
    "        references = labels,\n",
    "        num_labels = len(label2id),\n",
    "        ignore_index = 0\n",
    "    )\n",
    "\n",
    "    per_category_acuuracy = metrics.pop(\"per_category_accuracy\").tolist()\n",
    "    per_category_iou = metrics.pop(\"per_category_iou\").tolist()\n",
    "\n",
    "    metrics.update({f\"accuracy_{id2label[i]}\" : v for i, v in enumerate(per_category_accuracy)})\n",
    "    metrics.update({f\"iou_{id2label[i]}\" : v for i, v in enumerate(per_category_iou)})\n",
    "\n",
    "    return {\"val_\" + k: v for k, v in metrics.items()}"
   ]
  },
  {
   "cell_type": "code",
   "execution_count": 10,
   "metadata": {},
   "outputs": [],
   "source": [
    "batch_size = 1\n",
    "num_epochs = 15\n",
    "num_train_steps = len(train_ds)*num_epochs\n",
    "learning_rate = 6e-5\n",
    "weight_decay_rate = 0.01\n",
    "\n",
    "optimizer, lr_schedule = create_optimizer(\n",
    "    init_lr = learning_rate,\n",
    "    num_train_steps = num_train_steps,\n",
    "    weight_decay_rate = weight_decay_rate,\n",
    "    num_warmup_steps = 0\n",
    ")\n"
   ]
  },
  {
   "cell_type": "code",
   "execution_count": 11,
   "metadata": {},
   "outputs": [],
   "source": [
    "metric_callback = KerasMetricCallback(\n",
    "    metric_fn = compute_metrics,\n",
    "    eval_dataset = val_ds,\n",
    "    batch_size = batch_size,\n",
    "    label_cols = [\"labels\"]\n",
    ")\n",
    "callbacks = [metric_callback]"
   ]
  },
  {
   "cell_type": "code",
   "execution_count": 13,
   "metadata": {},
   "outputs": [
    {
     "name": "stderr",
     "output_type": "stream",
     "text": [
      "No loss specified in compile() - the model's internal loss computation will be used as the loss. Don't panic - this is a common way to train TensorFlow models in Transformers! To disable this behaviour please pass a loss argument, or explicitly pass `loss=None` if you do not want your model to compute a loss.\n"
     ]
    }
   ],
   "source": [
    "model.compile(optimizer=optimizer)"
   ]
  },
  {
   "cell_type": "code",
   "execution_count": 14,
   "metadata": {},
   "outputs": [
    {
     "name": "stdout",
     "output_type": "stream",
     "text": [
      "Epoch 1/15\n"
     ]
    },
    {
     "ename": "ResourceExhaustedError",
     "evalue": "2 root error(s) found.\n  (0) RESOURCE_EXHAUSTED:  OOM when allocating tensor with shape[1,2,4096,256] and type float on /job:localhost/replica:0/task:0/device:GPU:0 by allocator GPU_0_bfc\n\t [[node tf_segformer_for_semantic_segmentation/segformer/encoder/block.1.4/attention/self/Softmax\n (defined at c:\\Users\\risha\\anaconda3\\envs\\tf_new\\lib\\site-packages\\transformers\\tf_utils.py:70)\n]]\nHint: If you want to see a list of allocated tensors when OOM happens, add report_tensor_allocations_upon_oom to RunOptions for current allocation info. This isn't available when running in Eager mode.\n\n\t [[tf_segformer_for_semantic_segmentation/sparse_categorical_crossentropy/cond/then/_0/tf_segformer_for_semantic_segmentation/sparse_categorical_crossentropy/cond/cond/then/_59/tf_segformer_for_semantic_segmentation/sparse_categorical_crossentropy/cond/cond/remove_squeezable_dimensions/Equal/_2792]]\nHint: If you want to see a list of allocated tensors when OOM happens, add report_tensor_allocations_upon_oom to RunOptions for current allocation info. This isn't available when running in Eager mode.\n\n  (1) RESOURCE_EXHAUSTED:  OOM when allocating tensor with shape[1,2,4096,256] and type float on /job:localhost/replica:0/task:0/device:GPU:0 by allocator GPU_0_bfc\n\t [[node tf_segformer_for_semantic_segmentation/segformer/encoder/block.1.4/attention/self/Softmax\n (defined at c:\\Users\\risha\\anaconda3\\envs\\tf_new\\lib\\site-packages\\transformers\\tf_utils.py:70)\n]]\nHint: If you want to see a list of allocated tensors when OOM happens, add report_tensor_allocations_upon_oom to RunOptions for current allocation info. This isn't available when running in Eager mode.\n\n0 successful operations.\n0 derived errors ignored. [Op:__inference_train_function_161663]\n\nErrors may have originated from an input operation.\nInput Source operations connected to node tf_segformer_for_semantic_segmentation/segformer/encoder/block.1.4/attention/self/Softmax:\nIn[0] tf_segformer_for_semantic_segmentation/segformer/encoder/block.1.4/attention/self/add:\n\nOperation defined at: (most recent call last)\n>>>   File \"c:\\Users\\risha\\anaconda3\\envs\\tf_new\\lib\\runpy.py\", line 194, in _run_module_as_main\n>>>     return _run_code(code, main_globals, None,\n>>> \n>>>   File \"c:\\Users\\risha\\anaconda3\\envs\\tf_new\\lib\\runpy.py\", line 87, in _run_code\n>>>     exec(code, run_globals)\n>>> \n>>>   File \"c:\\Users\\risha\\anaconda3\\envs\\tf_new\\lib\\site-packages\\ipykernel_launcher.py\", line 18, in <module>\n>>>     app.launch_new_instance()\n>>> \n>>>   File \"c:\\Users\\risha\\anaconda3\\envs\\tf_new\\lib\\site-packages\\traitlets\\config\\application.py\", line 1075, in launch_instance\n>>>     app.start()\n>>> \n>>>   File \"c:\\Users\\risha\\anaconda3\\envs\\tf_new\\lib\\site-packages\\ipykernel\\kernelapp.py\", line 739, in start\n>>>     self.io_loop.start()\n>>> \n>>>   File \"c:\\Users\\risha\\anaconda3\\envs\\tf_new\\lib\\site-packages\\tornado\\platform\\asyncio.py\", line 205, in start\n>>>     self.asyncio_loop.run_forever()\n>>> \n>>>   File \"c:\\Users\\risha\\anaconda3\\envs\\tf_new\\lib\\asyncio\\base_events.py\", line 570, in run_forever\n>>>     self._run_once()\n>>> \n>>>   File \"c:\\Users\\risha\\anaconda3\\envs\\tf_new\\lib\\asyncio\\base_events.py\", line 1859, in _run_once\n>>>     handle._run()\n>>> \n>>>   File \"c:\\Users\\risha\\anaconda3\\envs\\tf_new\\lib\\asyncio\\events.py\", line 81, in _run\n>>>     self._context.run(self._callback, *self._args)\n>>> \n>>>   File \"c:\\Users\\risha\\anaconda3\\envs\\tf_new\\lib\\site-packages\\ipykernel\\kernelbase.py\", line 545, in dispatch_queue\n>>>     await self.process_one()\n>>> \n>>>   File \"c:\\Users\\risha\\anaconda3\\envs\\tf_new\\lib\\site-packages\\ipykernel\\kernelbase.py\", line 534, in process_one\n>>>     await dispatch(*args)\n>>> \n>>>   File \"c:\\Users\\risha\\anaconda3\\envs\\tf_new\\lib\\site-packages\\ipykernel\\kernelbase.py\", line 437, in dispatch_shell\n>>>     await result\n>>> \n>>>   File \"c:\\Users\\risha\\anaconda3\\envs\\tf_new\\lib\\site-packages\\ipykernel\\ipkernel.py\", line 362, in execute_request\n>>>     await super().execute_request(stream, ident, parent)\n>>> \n>>>   File \"c:\\Users\\risha\\anaconda3\\envs\\tf_new\\lib\\site-packages\\ipykernel\\kernelbase.py\", line 778, in execute_request\n>>>     reply_content = await reply_content\n>>> \n>>>   File \"c:\\Users\\risha\\anaconda3\\envs\\tf_new\\lib\\site-packages\\ipykernel\\ipkernel.py\", line 449, in do_execute\n>>>     res = shell.run_cell(\n>>> \n>>>   File \"c:\\Users\\risha\\anaconda3\\envs\\tf_new\\lib\\site-packages\\ipykernel\\zmqshell.py\", line 549, in run_cell\n>>>     return super().run_cell(*args, **kwargs)\n>>> \n>>>   File \"c:\\Users\\risha\\anaconda3\\envs\\tf_new\\lib\\site-packages\\IPython\\core\\interactiveshell.py\", line 3009, in run_cell\n>>>     result = self._run_cell(\n>>> \n>>>   File \"c:\\Users\\risha\\anaconda3\\envs\\tf_new\\lib\\site-packages\\IPython\\core\\interactiveshell.py\", line 3064, in _run_cell\n>>>     result = runner(coro)\n>>> \n>>>   File \"c:\\Users\\risha\\anaconda3\\envs\\tf_new\\lib\\site-packages\\IPython\\core\\async_helpers.py\", line 129, in _pseudo_sync_runner\n>>>     coro.send(None)\n>>> \n>>>   File \"c:\\Users\\risha\\anaconda3\\envs\\tf_new\\lib\\site-packages\\IPython\\core\\interactiveshell.py\", line 3269, in run_cell_async\n>>>     has_raised = await self.run_ast_nodes(code_ast.body, cell_name,\n>>> \n>>>   File \"c:\\Users\\risha\\anaconda3\\envs\\tf_new\\lib\\site-packages\\IPython\\core\\interactiveshell.py\", line 3448, in run_ast_nodes\n>>>     if await self.run_code(code, result, async_=asy):\n>>> \n>>>   File \"c:\\Users\\risha\\anaconda3\\envs\\tf_new\\lib\\site-packages\\IPython\\core\\interactiveshell.py\", line 3508, in run_code\n>>>     exec(code_obj, self.user_global_ns, self.user_ns)\n>>> \n>>>   File \"C:\\Users\\risha\\AppData\\Local\\Temp\\ipykernel_17844\\2340480664.py\", line 1, in <module>\n>>>     history = model.fit(\n>>> \n>>>   File \"c:\\Users\\risha\\anaconda3\\envs\\tf_new\\lib\\site-packages\\keras\\utils\\traceback_utils.py\", line 64, in error_handler\n>>>     return fn(*args, **kwargs)\n>>> \n>>>   File \"c:\\Users\\risha\\anaconda3\\envs\\tf_new\\lib\\site-packages\\keras\\engine\\training.py\", line 1216, in fit\n>>>     tmp_logs = self.train_function(iterator)\n>>> \n>>>   File \"c:\\Users\\risha\\anaconda3\\envs\\tf_new\\lib\\site-packages\\keras\\engine\\training.py\", line 878, in train_function\n>>>     return step_function(self, iterator)\n>>> \n>>>   File \"c:\\Users\\risha\\anaconda3\\envs\\tf_new\\lib\\site-packages\\keras\\engine\\training.py\", line 867, in step_function\n>>>     outputs = model.distribute_strategy.run(run_step, args=(data,))\n>>> \n>>>   File \"c:\\Users\\risha\\anaconda3\\envs\\tf_new\\lib\\site-packages\\keras\\engine\\training.py\", line 860, in run_step\n>>>     outputs = model.train_step(data)\n>>> \n>>>   File \"c:\\Users\\risha\\anaconda3\\envs\\tf_new\\lib\\site-packages\\transformers\\modeling_tf_utils.py\", line 1398, in train_step\n>>>     y_pred = self(x, training=True)\n>>> \n>>>   File \"c:\\Users\\risha\\anaconda3\\envs\\tf_new\\lib\\site-packages\\keras\\utils\\traceback_utils.py\", line 64, in error_handler\n>>>     return fn(*args, **kwargs)\n>>> \n>>>   File \"c:\\Users\\risha\\anaconda3\\envs\\tf_new\\lib\\site-packages\\keras\\engine\\base_layer.py\", line 1083, in __call__\n>>>     outputs = call_fn(inputs, *args, **kwargs)\n>>> \n>>>   File \"c:\\Users\\risha\\anaconda3\\envs\\tf_new\\lib\\site-packages\\keras\\utils\\traceback_utils.py\", line 92, in error_handler\n>>>     return fn(*args, **kwargs)\n>>> \n>>>   File \"c:\\Users\\risha\\anaconda3\\envs\\tf_new\\lib\\site-packages\\transformers\\modeling_tf_utils.py\", line 833, in run_call_with_unpacked_inputs\n>>>     \"\"\"\n>>> \n>>>   File \"c:\\Users\\risha\\anaconda3\\envs\\tf_new\\lib\\site-packages\\transformers\\models\\segformer\\modeling_tf_segformer.py\", line 860, in call\n>>>     outputs = self.segformer(\n>>> \n>>>   File \"c:\\Users\\risha\\anaconda3\\envs\\tf_new\\lib\\site-packages\\keras\\utils\\traceback_utils.py\", line 64, in error_handler\n>>>     return fn(*args, **kwargs)\n>>> \n>>>   File \"c:\\Users\\risha\\anaconda3\\envs\\tf_new\\lib\\site-packages\\keras\\engine\\base_layer.py\", line 1083, in __call__\n>>>     outputs = call_fn(inputs, *args, **kwargs)\n>>> \n>>>   File \"c:\\Users\\risha\\anaconda3\\envs\\tf_new\\lib\\site-packages\\keras\\utils\\traceback_utils.py\", line 92, in error_handler\n>>>     return fn(*args, **kwargs)\n>>> \n>>>   File \"c:\\Users\\risha\\anaconda3\\envs\\tf_new\\lib\\site-packages\\transformers\\modeling_tf_utils.py\", line 833, in run_call_with_unpacked_inputs\n>>>     \"\"\"\n>>> \n>>>   File \"c:\\Users\\risha\\anaconda3\\envs\\tf_new\\lib\\site-packages\\transformers\\models\\segformer\\modeling_tf_segformer.py\", line 482, in call\n>>>     encoder_outputs = self.encoder(\n>>> \n>>>   File \"c:\\Users\\risha\\anaconda3\\envs\\tf_new\\lib\\site-packages\\keras\\utils\\traceback_utils.py\", line 64, in error_handler\n>>>     return fn(*args, **kwargs)\n>>> \n>>>   File \"c:\\Users\\risha\\anaconda3\\envs\\tf_new\\lib\\site-packages\\keras\\engine\\base_layer.py\", line 1083, in __call__\n>>>     outputs = call_fn(inputs, *args, **kwargs)\n>>> \n>>>   File \"c:\\Users\\risha\\anaconda3\\envs\\tf_new\\lib\\site-packages\\keras\\utils\\traceback_utils.py\", line 92, in error_handler\n>>>     return fn(*args, **kwargs)\n>>> \n>>>   File \"c:\\Users\\risha\\anaconda3\\envs\\tf_new\\lib\\site-packages\\transformers\\models\\segformer\\modeling_tf_segformer.py\", line 414, in call\n>>>     for idx, x in enumerate(zip(self.embeddings, self.block, self.layer_norms)):\n>>> \n>>>   File \"c:\\Users\\risha\\anaconda3\\envs\\tf_new\\lib\\site-packages\\transformers\\models\\segformer\\modeling_tf_segformer.py\", line 421, in call\n>>>     for i, blk in enumerate(block_layer):\n>>> \n>>>   File \"c:\\Users\\risha\\anaconda3\\envs\\tf_new\\lib\\site-packages\\transformers\\models\\segformer\\modeling_tf_segformer.py\", line 422, in call\n>>>     layer_outputs = blk(\n>>> \n>>>   File \"c:\\Users\\risha\\anaconda3\\envs\\tf_new\\lib\\site-packages\\keras\\utils\\traceback_utils.py\", line 64, in error_handler\n>>>     return fn(*args, **kwargs)\n>>> \n>>>   File \"c:\\Users\\risha\\anaconda3\\envs\\tf_new\\lib\\site-packages\\keras\\engine\\base_layer.py\", line 1083, in __call__\n>>>     outputs = call_fn(inputs, *args, **kwargs)\n>>> \n>>>   File \"c:\\Users\\risha\\anaconda3\\envs\\tf_new\\lib\\site-packages\\keras\\utils\\traceback_utils.py\", line 92, in error_handler\n>>>     return fn(*args, **kwargs)\n>>> \n>>>   File \"c:\\Users\\risha\\anaconda3\\envs\\tf_new\\lib\\site-packages\\transformers\\models\\segformer\\modeling_tf_segformer.py\", line 324, in call\n>>>     self_attention_outputs = self.attention(\n>>> \n>>>   File \"c:\\Users\\risha\\anaconda3\\envs\\tf_new\\lib\\site-packages\\keras\\utils\\traceback_utils.py\", line 64, in error_handler\n>>>     return fn(*args, **kwargs)\n>>> \n>>>   File \"c:\\Users\\risha\\anaconda3\\envs\\tf_new\\lib\\site-packages\\keras\\engine\\base_layer.py\", line 1083, in __call__\n>>>     outputs = call_fn(inputs, *args, **kwargs)\n>>> \n>>>   File \"c:\\Users\\risha\\anaconda3\\envs\\tf_new\\lib\\site-packages\\keras\\utils\\traceback_utils.py\", line 92, in error_handler\n>>>     return fn(*args, **kwargs)\n>>> \n>>>   File \"c:\\Users\\risha\\anaconda3\\envs\\tf_new\\lib\\site-packages\\transformers\\models\\segformer\\modeling_tf_segformer.py\", line 232, in call\n>>>     self_outputs = self.self(hidden_states, height, width, output_attentions)\n>>> \n>>>   File \"c:\\Users\\risha\\anaconda3\\envs\\tf_new\\lib\\site-packages\\keras\\utils\\traceback_utils.py\", line 64, in error_handler\n>>>     return fn(*args, **kwargs)\n>>> \n>>>   File \"c:\\Users\\risha\\anaconda3\\envs\\tf_new\\lib\\site-packages\\keras\\engine\\base_layer.py\", line 1083, in __call__\n>>>     outputs = call_fn(inputs, *args, **kwargs)\n>>> \n>>>   File \"c:\\Users\\risha\\anaconda3\\envs\\tf_new\\lib\\site-packages\\keras\\utils\\traceback_utils.py\", line 92, in error_handler\n>>>     return fn(*args, **kwargs)\n>>> \n>>>   File \"c:\\Users\\risha\\anaconda3\\envs\\tf_new\\lib\\site-packages\\transformers\\models\\segformer\\modeling_tf_segformer.py\", line 182, in call\n>>>     attention_probs = stable_softmax(logits=attention_scores, axis=-1)\n>>> \n>>>   File \"c:\\Users\\risha\\anaconda3\\envs\\tf_new\\lib\\site-packages\\transformers\\tf_utils.py\", line 70, in stable_softmax\n>>>     return tf.nn.softmax(logits=logits + 1e-9, axis=axis, name=name)\n>>> \n\nInput Source operations connected to node tf_segformer_for_semantic_segmentation/segformer/encoder/block.1.4/attention/self/Softmax:\nIn[0] tf_segformer_for_semantic_segmentation/segformer/encoder/block.1.4/attention/self/add:\n\nOperation defined at: (most recent call last)\n>>>   File \"c:\\Users\\risha\\anaconda3\\envs\\tf_new\\lib\\runpy.py\", line 194, in _run_module_as_main\n>>>     return _run_code(code, main_globals, None,\n>>> \n>>>   File \"c:\\Users\\risha\\anaconda3\\envs\\tf_new\\lib\\runpy.py\", line 87, in _run_code\n>>>     exec(code, run_globals)\n>>> \n>>>   File \"c:\\Users\\risha\\anaconda3\\envs\\tf_new\\lib\\site-packages\\ipykernel_launcher.py\", line 18, in <module>\n>>>     app.launch_new_instance()\n>>> \n>>>   File \"c:\\Users\\risha\\anaconda3\\envs\\tf_new\\lib\\site-packages\\traitlets\\config\\application.py\", line 1075, in launch_instance\n>>>     app.start()\n>>> \n>>>   File \"c:\\Users\\risha\\anaconda3\\envs\\tf_new\\lib\\site-packages\\ipykernel\\kernelapp.py\", line 739, in start\n>>>     self.io_loop.start()\n>>> \n>>>   File \"c:\\Users\\risha\\anaconda3\\envs\\tf_new\\lib\\site-packages\\tornado\\platform\\asyncio.py\", line 205, in start\n>>>     self.asyncio_loop.run_forever()\n>>> \n>>>   File \"c:\\Users\\risha\\anaconda3\\envs\\tf_new\\lib\\asyncio\\base_events.py\", line 570, in run_forever\n>>>     self._run_once()\n>>> \n>>>   File \"c:\\Users\\risha\\anaconda3\\envs\\tf_new\\lib\\asyncio\\base_events.py\", line 1859, in _run_once\n>>>     handle._run()\n>>> \n>>>   File \"c:\\Users\\risha\\anaconda3\\envs\\tf_new\\lib\\asyncio\\events.py\", line 81, in _run\n>>>     self._context.run(self._callback, *self._args)\n>>> \n>>>   File \"c:\\Users\\risha\\anaconda3\\envs\\tf_new\\lib\\site-packages\\ipykernel\\kernelbase.py\", line 545, in dispatch_queue\n>>>     await self.process_one()\n>>> \n>>>   File \"c:\\Users\\risha\\anaconda3\\envs\\tf_new\\lib\\site-packages\\ipykernel\\kernelbase.py\", line 534, in process_one\n>>>     await dispatch(*args)\n>>> \n>>>   File \"c:\\Users\\risha\\anaconda3\\envs\\tf_new\\lib\\site-packages\\ipykernel\\kernelbase.py\", line 437, in dispatch_shell\n>>>     await result\n>>> \n>>>   File \"c:\\Users\\risha\\anaconda3\\envs\\tf_new\\lib\\site-packages\\ipykernel\\ipkernel.py\", line 362, in execute_request\n>>>     await super().execute_request(stream, ident, parent)\n>>> \n>>>   File \"c:\\Users\\risha\\anaconda3\\envs\\tf_new\\lib\\site-packages\\ipykernel\\kernelbase.py\", line 778, in execute_request\n>>>     reply_content = await reply_content\n>>> \n>>>   File \"c:\\Users\\risha\\anaconda3\\envs\\tf_new\\lib\\site-packages\\ipykernel\\ipkernel.py\", line 449, in do_execute\n>>>     res = shell.run_cell(\n>>> \n>>>   File \"c:\\Users\\risha\\anaconda3\\envs\\tf_new\\lib\\site-packages\\ipykernel\\zmqshell.py\", line 549, in run_cell\n>>>     return super().run_cell(*args, **kwargs)\n>>> \n>>>   File \"c:\\Users\\risha\\anaconda3\\envs\\tf_new\\lib\\site-packages\\IPython\\core\\interactiveshell.py\", line 3009, in run_cell\n>>>     result = self._run_cell(\n>>> \n>>>   File \"c:\\Users\\risha\\anaconda3\\envs\\tf_new\\lib\\site-packages\\IPython\\core\\interactiveshell.py\", line 3064, in _run_cell\n>>>     result = runner(coro)\n>>> \n>>>   File \"c:\\Users\\risha\\anaconda3\\envs\\tf_new\\lib\\site-packages\\IPython\\core\\async_helpers.py\", line 129, in _pseudo_sync_runner\n>>>     coro.send(None)\n>>> \n>>>   File \"c:\\Users\\risha\\anaconda3\\envs\\tf_new\\lib\\site-packages\\IPython\\core\\interactiveshell.py\", line 3269, in run_cell_async\n>>>     has_raised = await self.run_ast_nodes(code_ast.body, cell_name,\n>>> \n>>>   File \"c:\\Users\\risha\\anaconda3\\envs\\tf_new\\lib\\site-packages\\IPython\\core\\interactiveshell.py\", line 3448, in run_ast_nodes\n>>>     if await self.run_code(code, result, async_=asy):\n>>> \n>>>   File \"c:\\Users\\risha\\anaconda3\\envs\\tf_new\\lib\\site-packages\\IPython\\core\\interactiveshell.py\", line 3508, in run_code\n>>>     exec(code_obj, self.user_global_ns, self.user_ns)\n>>> \n>>>   File \"C:\\Users\\risha\\AppData\\Local\\Temp\\ipykernel_17844\\2340480664.py\", line 1, in <module>\n>>>     history = model.fit(\n>>> \n>>>   File \"c:\\Users\\risha\\anaconda3\\envs\\tf_new\\lib\\site-packages\\keras\\utils\\traceback_utils.py\", line 64, in error_handler\n>>>     return fn(*args, **kwargs)\n>>> \n>>>   File \"c:\\Users\\risha\\anaconda3\\envs\\tf_new\\lib\\site-packages\\keras\\engine\\training.py\", line 1216, in fit\n>>>     tmp_logs = self.train_function(iterator)\n>>> \n>>>   File \"c:\\Users\\risha\\anaconda3\\envs\\tf_new\\lib\\site-packages\\keras\\engine\\training.py\", line 878, in train_function\n>>>     return step_function(self, iterator)\n>>> \n>>>   File \"c:\\Users\\risha\\anaconda3\\envs\\tf_new\\lib\\site-packages\\keras\\engine\\training.py\", line 867, in step_function\n>>>     outputs = model.distribute_strategy.run(run_step, args=(data,))\n>>> \n>>>   File \"c:\\Users\\risha\\anaconda3\\envs\\tf_new\\lib\\site-packages\\keras\\engine\\training.py\", line 860, in run_step\n>>>     outputs = model.train_step(data)\n>>> \n>>>   File \"c:\\Users\\risha\\anaconda3\\envs\\tf_new\\lib\\site-packages\\transformers\\modeling_tf_utils.py\", line 1398, in train_step\n>>>     y_pred = self(x, training=True)\n>>> \n>>>   File \"c:\\Users\\risha\\anaconda3\\envs\\tf_new\\lib\\site-packages\\keras\\utils\\traceback_utils.py\", line 64, in error_handler\n>>>     return fn(*args, **kwargs)\n>>> \n>>>   File \"c:\\Users\\risha\\anaconda3\\envs\\tf_new\\lib\\site-packages\\keras\\engine\\base_layer.py\", line 1083, in __call__\n>>>     outputs = call_fn(inputs, *args, **kwargs)\n>>> \n>>>   File \"c:\\Users\\risha\\anaconda3\\envs\\tf_new\\lib\\site-packages\\keras\\utils\\traceback_utils.py\", line 92, in error_handler\n>>>     return fn(*args, **kwargs)\n>>> \n>>>   File \"c:\\Users\\risha\\anaconda3\\envs\\tf_new\\lib\\site-packages\\transformers\\modeling_tf_utils.py\", line 833, in run_call_with_unpacked_inputs\n>>>     \"\"\"\n>>> \n>>>   File \"c:\\Users\\risha\\anaconda3\\envs\\tf_new\\lib\\site-packages\\transformers\\models\\segformer\\modeling_tf_segformer.py\", line 860, in call\n>>>     outputs = self.segformer(\n>>> \n>>>   File \"c:\\Users\\risha\\anaconda3\\envs\\tf_new\\lib\\site-packages\\keras\\utils\\traceback_utils.py\", line 64, in error_handler\n>>>     return fn(*args, **kwargs)\n>>> \n>>>   File \"c:\\Users\\risha\\anaconda3\\envs\\tf_new\\lib\\site-packages\\keras\\engine\\base_layer.py\", line 1083, in __call__\n>>>     outputs = call_fn(inputs, *args, **kwargs)\n>>> \n>>>   File \"c:\\Users\\risha\\anaconda3\\envs\\tf_new\\lib\\site-packages\\keras\\utils\\traceback_utils.py\", line 92, in error_handler\n>>>     return fn(*args, **kwargs)\n>>> \n>>>   File \"c:\\Users\\risha\\anaconda3\\envs\\tf_new\\lib\\site-packages\\transformers\\modeling_tf_utils.py\", line 833, in run_call_with_unpacked_inputs\n>>>     \"\"\"\n>>> \n>>>   File \"c:\\Users\\risha\\anaconda3\\envs\\tf_new\\lib\\site-packages\\transformers\\models\\segformer\\modeling_tf_segformer.py\", line 482, in call\n>>>     encoder_outputs = self.encoder(\n>>> \n>>>   File \"c:\\Users\\risha\\anaconda3\\envs\\tf_new\\lib\\site-packages\\keras\\utils\\traceback_utils.py\", line 64, in error_handler\n>>>     return fn(*args, **kwargs)\n>>> \n>>>   File \"c:\\Users\\risha\\anaconda3\\envs\\tf_new\\lib\\site-packages\\keras\\engine\\base_layer.py\", line 1083, in __call__\n>>>     outputs = call_fn(inputs, *args, **kwargs)\n>>> \n>>>   File \"c:\\Users\\risha\\anaconda3\\envs\\tf_new\\lib\\site-packages\\keras\\utils\\traceback_utils.py\", line 92, in error_handler\n>>>     return fn(*args, **kwargs)\n>>> \n>>>   File \"c:\\Users\\risha\\anaconda3\\envs\\tf_new\\lib\\site-packages\\transformers\\models\\segformer\\modeling_tf_segformer.py\", line 414, in call\n>>>     for idx, x in enumerate(zip(self.embeddings, self.block, self.layer_norms)):\n>>> \n>>>   File \"c:\\Users\\risha\\anaconda3\\envs\\tf_new\\lib\\site-packages\\transformers\\models\\segformer\\modeling_tf_segformer.py\", line 421, in call\n>>>     for i, blk in enumerate(block_layer):\n>>> \n>>>   File \"c:\\Users\\risha\\anaconda3\\envs\\tf_new\\lib\\site-packages\\transformers\\models\\segformer\\modeling_tf_segformer.py\", line 422, in call\n>>>     layer_outputs = blk(\n>>> \n>>>   File \"c:\\Users\\risha\\anaconda3\\envs\\tf_new\\lib\\site-packages\\keras\\utils\\traceback_utils.py\", line 64, in error_handler\n>>>     return fn(*args, **kwargs)\n>>> \n>>>   File \"c:\\Users\\risha\\anaconda3\\envs\\tf_new\\lib\\site-packages\\keras\\engine\\base_layer.py\", line 1083, in __call__\n>>>     outputs = call_fn(inputs, *args, **kwargs)\n>>> \n>>>   File \"c:\\Users\\risha\\anaconda3\\envs\\tf_new\\lib\\site-packages\\keras\\utils\\traceback_utils.py\", line 92, in error_handler\n>>>     return fn(*args, **kwargs)\n>>> \n>>>   File \"c:\\Users\\risha\\anaconda3\\envs\\tf_new\\lib\\site-packages\\transformers\\models\\segformer\\modeling_tf_segformer.py\", line 324, in call\n>>>     self_attention_outputs = self.attention(\n>>> \n>>>   File \"c:\\Users\\risha\\anaconda3\\envs\\tf_new\\lib\\site-packages\\keras\\utils\\traceback_utils.py\", line 64, in error_handler\n>>>     return fn(*args, **kwargs)\n>>> \n>>>   File \"c:\\Users\\risha\\anaconda3\\envs\\tf_new\\lib\\site-packages\\keras\\engine\\base_layer.py\", line 1083, in __call__\n>>>     outputs = call_fn(inputs, *args, **kwargs)\n>>> \n>>>   File \"c:\\Users\\risha\\anaconda3\\envs\\tf_new\\lib\\site-packages\\keras\\utils\\traceback_utils.py\", line 92, in error_handler\n>>>     return fn(*args, **kwargs)\n>>> \n>>>   File \"c:\\Users\\risha\\anaconda3\\envs\\tf_new\\lib\\site-packages\\transformers\\models\\segformer\\modeling_tf_segformer.py\", line 232, in call\n>>>     self_outputs = self.self(hidden_states, height, width, output_attentions)\n>>> \n>>>   File \"c:\\Users\\risha\\anaconda3\\envs\\tf_new\\lib\\site-packages\\keras\\utils\\traceback_utils.py\", line 64, in error_handler\n>>>     return fn(*args, **kwargs)\n>>> \n>>>   File \"c:\\Users\\risha\\anaconda3\\envs\\tf_new\\lib\\site-packages\\keras\\engine\\base_layer.py\", line 1083, in __call__\n>>>     outputs = call_fn(inputs, *args, **kwargs)\n>>> \n>>>   File \"c:\\Users\\risha\\anaconda3\\envs\\tf_new\\lib\\site-packages\\keras\\utils\\traceback_utils.py\", line 92, in error_handler\n>>>     return fn(*args, **kwargs)\n>>> \n>>>   File \"c:\\Users\\risha\\anaconda3\\envs\\tf_new\\lib\\site-packages\\transformers\\models\\segformer\\modeling_tf_segformer.py\", line 182, in call\n>>>     attention_probs = stable_softmax(logits=attention_scores, axis=-1)\n>>> \n>>>   File \"c:\\Users\\risha\\anaconda3\\envs\\tf_new\\lib\\site-packages\\transformers\\tf_utils.py\", line 70, in stable_softmax\n>>>     return tf.nn.softmax(logits=logits + 1e-9, axis=axis, name=name)\n>>> \n\nFunction call stack:\ntrain_function -> train_function\n",
     "output_type": "error",
     "traceback": [
      "\u001b[1;31m---------------------------------------------------------------------------\u001b[0m",
      "\u001b[1;31mResourceExhaustedError\u001b[0m                    Traceback (most recent call last)",
      "Cell \u001b[1;32mIn[14], line 1\u001b[0m\n\u001b[1;32m----> 1\u001b[0m history \u001b[38;5;241m=\u001b[39m \u001b[43mmodel\u001b[49m\u001b[38;5;241;43m.\u001b[39;49m\u001b[43mfit\u001b[49m\u001b[43m(\u001b[49m\n\u001b[0;32m      2\u001b[0m \u001b[43m    \u001b[49m\u001b[43mtrain_ds\u001b[49m\u001b[43m,\u001b[49m\n\u001b[0;32m      3\u001b[0m \u001b[43m    \u001b[49m\u001b[43mvalidation_data\u001b[49m\u001b[38;5;241;43m=\u001b[39;49m\u001b[43mval_ds\u001b[49m\u001b[43m,\u001b[49m\n\u001b[0;32m      4\u001b[0m \u001b[43m    \u001b[49m\u001b[43mepochs\u001b[49m\u001b[38;5;241;43m=\u001b[39;49m\u001b[43mnum_epochs\u001b[49m\u001b[43m,\u001b[49m\n\u001b[0;32m      5\u001b[0m \u001b[43m    \u001b[49m\u001b[43mcallbacks\u001b[49m\u001b[38;5;241;43m=\u001b[39;49m\u001b[43mcallbacks\u001b[49m\u001b[43m,\u001b[49m\n\u001b[0;32m      6\u001b[0m \u001b[43m)\u001b[49m\n",
      "File \u001b[1;32mc:\\Users\\risha\\anaconda3\\envs\\tf_new\\lib\\site-packages\\keras\\utils\\traceback_utils.py:67\u001b[0m, in \u001b[0;36mfilter_traceback.<locals>.error_handler\u001b[1;34m(*args, **kwargs)\u001b[0m\n\u001b[0;32m     65\u001b[0m \u001b[38;5;28;01mexcept\u001b[39;00m \u001b[38;5;167;01mException\u001b[39;00m \u001b[38;5;28;01mas\u001b[39;00m e:  \u001b[38;5;66;03m# pylint: disable=broad-except\u001b[39;00m\n\u001b[0;32m     66\u001b[0m   filtered_tb \u001b[38;5;241m=\u001b[39m _process_traceback_frames(e\u001b[38;5;241m.\u001b[39m__traceback__)\n\u001b[1;32m---> 67\u001b[0m   \u001b[38;5;28;01mraise\u001b[39;00m e\u001b[38;5;241m.\u001b[39mwith_traceback(filtered_tb) \u001b[38;5;28;01mfrom\u001b[39;00m \u001b[38;5;28;01mNone\u001b[39;00m\n\u001b[0;32m     68\u001b[0m \u001b[38;5;28;01mfinally\u001b[39;00m:\n\u001b[0;32m     69\u001b[0m   \u001b[38;5;28;01mdel\u001b[39;00m filtered_tb\n",
      "File \u001b[1;32mc:\\Users\\risha\\anaconda3\\envs\\tf_new\\lib\\site-packages\\tensorflow\\python\\eager\\execute.py:58\u001b[0m, in \u001b[0;36mquick_execute\u001b[1;34m(op_name, num_outputs, inputs, attrs, ctx, name)\u001b[0m\n\u001b[0;32m     56\u001b[0m \u001b[38;5;28;01mtry\u001b[39;00m:\n\u001b[0;32m     57\u001b[0m   ctx\u001b[38;5;241m.\u001b[39mensure_initialized()\n\u001b[1;32m---> 58\u001b[0m   tensors \u001b[38;5;241m=\u001b[39m pywrap_tfe\u001b[38;5;241m.\u001b[39mTFE_Py_Execute(ctx\u001b[38;5;241m.\u001b[39m_handle, device_name, op_name,\n\u001b[0;32m     59\u001b[0m                                       inputs, attrs, num_outputs)\n\u001b[0;32m     60\u001b[0m \u001b[38;5;28;01mexcept\u001b[39;00m core\u001b[38;5;241m.\u001b[39m_NotOkStatusException \u001b[38;5;28;01mas\u001b[39;00m e:\n\u001b[0;32m     61\u001b[0m   \u001b[38;5;28;01mif\u001b[39;00m name \u001b[38;5;129;01mis\u001b[39;00m \u001b[38;5;129;01mnot\u001b[39;00m \u001b[38;5;28;01mNone\u001b[39;00m:\n",
      "\u001b[1;31mResourceExhaustedError\u001b[0m: 2 root error(s) found.\n  (0) RESOURCE_EXHAUSTED:  OOM when allocating tensor with shape[1,2,4096,256] and type float on /job:localhost/replica:0/task:0/device:GPU:0 by allocator GPU_0_bfc\n\t [[node tf_segformer_for_semantic_segmentation/segformer/encoder/block.1.4/attention/self/Softmax\n (defined at c:\\Users\\risha\\anaconda3\\envs\\tf_new\\lib\\site-packages\\transformers\\tf_utils.py:70)\n]]\nHint: If you want to see a list of allocated tensors when OOM happens, add report_tensor_allocations_upon_oom to RunOptions for current allocation info. This isn't available when running in Eager mode.\n\n\t [[tf_segformer_for_semantic_segmentation/sparse_categorical_crossentropy/cond/then/_0/tf_segformer_for_semantic_segmentation/sparse_categorical_crossentropy/cond/cond/then/_59/tf_segformer_for_semantic_segmentation/sparse_categorical_crossentropy/cond/cond/remove_squeezable_dimensions/Equal/_2792]]\nHint: If you want to see a list of allocated tensors when OOM happens, add report_tensor_allocations_upon_oom to RunOptions for current allocation info. This isn't available when running in Eager mode.\n\n  (1) RESOURCE_EXHAUSTED:  OOM when allocating tensor with shape[1,2,4096,256] and type float on /job:localhost/replica:0/task:0/device:GPU:0 by allocator GPU_0_bfc\n\t [[node tf_segformer_for_semantic_segmentation/segformer/encoder/block.1.4/attention/self/Softmax\n (defined at c:\\Users\\risha\\anaconda3\\envs\\tf_new\\lib\\site-packages\\transformers\\tf_utils.py:70)\n]]\nHint: If you want to see a list of allocated tensors when OOM happens, add report_tensor_allocations_upon_oom to RunOptions for current allocation info. This isn't available when running in Eager mode.\n\n0 successful operations.\n0 derived errors ignored. [Op:__inference_train_function_161663]\n\nErrors may have originated from an input operation.\nInput Source operations connected to node tf_segformer_for_semantic_segmentation/segformer/encoder/block.1.4/attention/self/Softmax:\nIn[0] tf_segformer_for_semantic_segmentation/segformer/encoder/block.1.4/attention/self/add:\n\nOperation defined at: (most recent call last)\n>>>   File \"c:\\Users\\risha\\anaconda3\\envs\\tf_new\\lib\\runpy.py\", line 194, in _run_module_as_main\n>>>     return _run_code(code, main_globals, None,\n>>> \n>>>   File \"c:\\Users\\risha\\anaconda3\\envs\\tf_new\\lib\\runpy.py\", line 87, in _run_code\n>>>     exec(code, run_globals)\n>>> \n>>>   File \"c:\\Users\\risha\\anaconda3\\envs\\tf_new\\lib\\site-packages\\ipykernel_launcher.py\", line 18, in <module>\n>>>     app.launch_new_instance()\n>>> \n>>>   File \"c:\\Users\\risha\\anaconda3\\envs\\tf_new\\lib\\site-packages\\traitlets\\config\\application.py\", line 1075, in launch_instance\n>>>     app.start()\n>>> \n>>>   File \"c:\\Users\\risha\\anaconda3\\envs\\tf_new\\lib\\site-packages\\ipykernel\\kernelapp.py\", line 739, in start\n>>>     self.io_loop.start()\n>>> \n>>>   File \"c:\\Users\\risha\\anaconda3\\envs\\tf_new\\lib\\site-packages\\tornado\\platform\\asyncio.py\", line 205, in start\n>>>     self.asyncio_loop.run_forever()\n>>> \n>>>   File \"c:\\Users\\risha\\anaconda3\\envs\\tf_new\\lib\\asyncio\\base_events.py\", line 570, in run_forever\n>>>     self._run_once()\n>>> \n>>>   File \"c:\\Users\\risha\\anaconda3\\envs\\tf_new\\lib\\asyncio\\base_events.py\", line 1859, in _run_once\n>>>     handle._run()\n>>> \n>>>   File \"c:\\Users\\risha\\anaconda3\\envs\\tf_new\\lib\\asyncio\\events.py\", line 81, in _run\n>>>     self._context.run(self._callback, *self._args)\n>>> \n>>>   File \"c:\\Users\\risha\\anaconda3\\envs\\tf_new\\lib\\site-packages\\ipykernel\\kernelbase.py\", line 545, in dispatch_queue\n>>>     await self.process_one()\n>>> \n>>>   File \"c:\\Users\\risha\\anaconda3\\envs\\tf_new\\lib\\site-packages\\ipykernel\\kernelbase.py\", line 534, in process_one\n>>>     await dispatch(*args)\n>>> \n>>>   File \"c:\\Users\\risha\\anaconda3\\envs\\tf_new\\lib\\site-packages\\ipykernel\\kernelbase.py\", line 437, in dispatch_shell\n>>>     await result\n>>> \n>>>   File \"c:\\Users\\risha\\anaconda3\\envs\\tf_new\\lib\\site-packages\\ipykernel\\ipkernel.py\", line 362, in execute_request\n>>>     await super().execute_request(stream, ident, parent)\n>>> \n>>>   File \"c:\\Users\\risha\\anaconda3\\envs\\tf_new\\lib\\site-packages\\ipykernel\\kernelbase.py\", line 778, in execute_request\n>>>     reply_content = await reply_content\n>>> \n>>>   File \"c:\\Users\\risha\\anaconda3\\envs\\tf_new\\lib\\site-packages\\ipykernel\\ipkernel.py\", line 449, in do_execute\n>>>     res = shell.run_cell(\n>>> \n>>>   File \"c:\\Users\\risha\\anaconda3\\envs\\tf_new\\lib\\site-packages\\ipykernel\\zmqshell.py\", line 549, in run_cell\n>>>     return super().run_cell(*args, **kwargs)\n>>> \n>>>   File \"c:\\Users\\risha\\anaconda3\\envs\\tf_new\\lib\\site-packages\\IPython\\core\\interactiveshell.py\", line 3009, in run_cell\n>>>     result = self._run_cell(\n>>> \n>>>   File \"c:\\Users\\risha\\anaconda3\\envs\\tf_new\\lib\\site-packages\\IPython\\core\\interactiveshell.py\", line 3064, in _run_cell\n>>>     result = runner(coro)\n>>> \n>>>   File \"c:\\Users\\risha\\anaconda3\\envs\\tf_new\\lib\\site-packages\\IPython\\core\\async_helpers.py\", line 129, in _pseudo_sync_runner\n>>>     coro.send(None)\n>>> \n>>>   File \"c:\\Users\\risha\\anaconda3\\envs\\tf_new\\lib\\site-packages\\IPython\\core\\interactiveshell.py\", line 3269, in run_cell_async\n>>>     has_raised = await self.run_ast_nodes(code_ast.body, cell_name,\n>>> \n>>>   File \"c:\\Users\\risha\\anaconda3\\envs\\tf_new\\lib\\site-packages\\IPython\\core\\interactiveshell.py\", line 3448, in run_ast_nodes\n>>>     if await self.run_code(code, result, async_=asy):\n>>> \n>>>   File \"c:\\Users\\risha\\anaconda3\\envs\\tf_new\\lib\\site-packages\\IPython\\core\\interactiveshell.py\", line 3508, in run_code\n>>>     exec(code_obj, self.user_global_ns, self.user_ns)\n>>> \n>>>   File \"C:\\Users\\risha\\AppData\\Local\\Temp\\ipykernel_17844\\2340480664.py\", line 1, in <module>\n>>>     history = model.fit(\n>>> \n>>>   File \"c:\\Users\\risha\\anaconda3\\envs\\tf_new\\lib\\site-packages\\keras\\utils\\traceback_utils.py\", line 64, in error_handler\n>>>     return fn(*args, **kwargs)\n>>> \n>>>   File \"c:\\Users\\risha\\anaconda3\\envs\\tf_new\\lib\\site-packages\\keras\\engine\\training.py\", line 1216, in fit\n>>>     tmp_logs = self.train_function(iterator)\n>>> \n>>>   File \"c:\\Users\\risha\\anaconda3\\envs\\tf_new\\lib\\site-packages\\keras\\engine\\training.py\", line 878, in train_function\n>>>     return step_function(self, iterator)\n>>> \n>>>   File \"c:\\Users\\risha\\anaconda3\\envs\\tf_new\\lib\\site-packages\\keras\\engine\\training.py\", line 867, in step_function\n>>>     outputs = model.distribute_strategy.run(run_step, args=(data,))\n>>> \n>>>   File \"c:\\Users\\risha\\anaconda3\\envs\\tf_new\\lib\\site-packages\\keras\\engine\\training.py\", line 860, in run_step\n>>>     outputs = model.train_step(data)\n>>> \n>>>   File \"c:\\Users\\risha\\anaconda3\\envs\\tf_new\\lib\\site-packages\\transformers\\modeling_tf_utils.py\", line 1398, in train_step\n>>>     y_pred = self(x, training=True)\n>>> \n>>>   File \"c:\\Users\\risha\\anaconda3\\envs\\tf_new\\lib\\site-packages\\keras\\utils\\traceback_utils.py\", line 64, in error_handler\n>>>     return fn(*args, **kwargs)\n>>> \n>>>   File \"c:\\Users\\risha\\anaconda3\\envs\\tf_new\\lib\\site-packages\\keras\\engine\\base_layer.py\", line 1083, in __call__\n>>>     outputs = call_fn(inputs, *args, **kwargs)\n>>> \n>>>   File \"c:\\Users\\risha\\anaconda3\\envs\\tf_new\\lib\\site-packages\\keras\\utils\\traceback_utils.py\", line 92, in error_handler\n>>>     return fn(*args, **kwargs)\n>>> \n>>>   File \"c:\\Users\\risha\\anaconda3\\envs\\tf_new\\lib\\site-packages\\transformers\\modeling_tf_utils.py\", line 833, in run_call_with_unpacked_inputs\n>>>     \"\"\"\n>>> \n>>>   File \"c:\\Users\\risha\\anaconda3\\envs\\tf_new\\lib\\site-packages\\transformers\\models\\segformer\\modeling_tf_segformer.py\", line 860, in call\n>>>     outputs = self.segformer(\n>>> \n>>>   File \"c:\\Users\\risha\\anaconda3\\envs\\tf_new\\lib\\site-packages\\keras\\utils\\traceback_utils.py\", line 64, in error_handler\n>>>     return fn(*args, **kwargs)\n>>> \n>>>   File \"c:\\Users\\risha\\anaconda3\\envs\\tf_new\\lib\\site-packages\\keras\\engine\\base_layer.py\", line 1083, in __call__\n>>>     outputs = call_fn(inputs, *args, **kwargs)\n>>> \n>>>   File \"c:\\Users\\risha\\anaconda3\\envs\\tf_new\\lib\\site-packages\\keras\\utils\\traceback_utils.py\", line 92, in error_handler\n>>>     return fn(*args, **kwargs)\n>>> \n>>>   File \"c:\\Users\\risha\\anaconda3\\envs\\tf_new\\lib\\site-packages\\transformers\\modeling_tf_utils.py\", line 833, in run_call_with_unpacked_inputs\n>>>     \"\"\"\n>>> \n>>>   File \"c:\\Users\\risha\\anaconda3\\envs\\tf_new\\lib\\site-packages\\transformers\\models\\segformer\\modeling_tf_segformer.py\", line 482, in call\n>>>     encoder_outputs = self.encoder(\n>>> \n>>>   File \"c:\\Users\\risha\\anaconda3\\envs\\tf_new\\lib\\site-packages\\keras\\utils\\traceback_utils.py\", line 64, in error_handler\n>>>     return fn(*args, **kwargs)\n>>> \n>>>   File \"c:\\Users\\risha\\anaconda3\\envs\\tf_new\\lib\\site-packages\\keras\\engine\\base_layer.py\", line 1083, in __call__\n>>>     outputs = call_fn(inputs, *args, **kwargs)\n>>> \n>>>   File \"c:\\Users\\risha\\anaconda3\\envs\\tf_new\\lib\\site-packages\\keras\\utils\\traceback_utils.py\", line 92, in error_handler\n>>>     return fn(*args, **kwargs)\n>>> \n>>>   File \"c:\\Users\\risha\\anaconda3\\envs\\tf_new\\lib\\site-packages\\transformers\\models\\segformer\\modeling_tf_segformer.py\", line 414, in call\n>>>     for idx, x in enumerate(zip(self.embeddings, self.block, self.layer_norms)):\n>>> \n>>>   File \"c:\\Users\\risha\\anaconda3\\envs\\tf_new\\lib\\site-packages\\transformers\\models\\segformer\\modeling_tf_segformer.py\", line 421, in call\n>>>     for i, blk in enumerate(block_layer):\n>>> \n>>>   File \"c:\\Users\\risha\\anaconda3\\envs\\tf_new\\lib\\site-packages\\transformers\\models\\segformer\\modeling_tf_segformer.py\", line 422, in call\n>>>     layer_outputs = blk(\n>>> \n>>>   File \"c:\\Users\\risha\\anaconda3\\envs\\tf_new\\lib\\site-packages\\keras\\utils\\traceback_utils.py\", line 64, in error_handler\n>>>     return fn(*args, **kwargs)\n>>> \n>>>   File \"c:\\Users\\risha\\anaconda3\\envs\\tf_new\\lib\\site-packages\\keras\\engine\\base_layer.py\", line 1083, in __call__\n>>>     outputs = call_fn(inputs, *args, **kwargs)\n>>> \n>>>   File \"c:\\Users\\risha\\anaconda3\\envs\\tf_new\\lib\\site-packages\\keras\\utils\\traceback_utils.py\", line 92, in error_handler\n>>>     return fn(*args, **kwargs)\n>>> \n>>>   File \"c:\\Users\\risha\\anaconda3\\envs\\tf_new\\lib\\site-packages\\transformers\\models\\segformer\\modeling_tf_segformer.py\", line 324, in call\n>>>     self_attention_outputs = self.attention(\n>>> \n>>>   File \"c:\\Users\\risha\\anaconda3\\envs\\tf_new\\lib\\site-packages\\keras\\utils\\traceback_utils.py\", line 64, in error_handler\n>>>     return fn(*args, **kwargs)\n>>> \n>>>   File \"c:\\Users\\risha\\anaconda3\\envs\\tf_new\\lib\\site-packages\\keras\\engine\\base_layer.py\", line 1083, in __call__\n>>>     outputs = call_fn(inputs, *args, **kwargs)\n>>> \n>>>   File \"c:\\Users\\risha\\anaconda3\\envs\\tf_new\\lib\\site-packages\\keras\\utils\\traceback_utils.py\", line 92, in error_handler\n>>>     return fn(*args, **kwargs)\n>>> \n>>>   File \"c:\\Users\\risha\\anaconda3\\envs\\tf_new\\lib\\site-packages\\transformers\\models\\segformer\\modeling_tf_segformer.py\", line 232, in call\n>>>     self_outputs = self.self(hidden_states, height, width, output_attentions)\n>>> \n>>>   File \"c:\\Users\\risha\\anaconda3\\envs\\tf_new\\lib\\site-packages\\keras\\utils\\traceback_utils.py\", line 64, in error_handler\n>>>     return fn(*args, **kwargs)\n>>> \n>>>   File \"c:\\Users\\risha\\anaconda3\\envs\\tf_new\\lib\\site-packages\\keras\\engine\\base_layer.py\", line 1083, in __call__\n>>>     outputs = call_fn(inputs, *args, **kwargs)\n>>> \n>>>   File \"c:\\Users\\risha\\anaconda3\\envs\\tf_new\\lib\\site-packages\\keras\\utils\\traceback_utils.py\", line 92, in error_handler\n>>>     return fn(*args, **kwargs)\n>>> \n>>>   File \"c:\\Users\\risha\\anaconda3\\envs\\tf_new\\lib\\site-packages\\transformers\\models\\segformer\\modeling_tf_segformer.py\", line 182, in call\n>>>     attention_probs = stable_softmax(logits=attention_scores, axis=-1)\n>>> \n>>>   File \"c:\\Users\\risha\\anaconda3\\envs\\tf_new\\lib\\site-packages\\transformers\\tf_utils.py\", line 70, in stable_softmax\n>>>     return tf.nn.softmax(logits=logits + 1e-9, axis=axis, name=name)\n>>> \n\nInput Source operations connected to node tf_segformer_for_semantic_segmentation/segformer/encoder/block.1.4/attention/self/Softmax:\nIn[0] tf_segformer_for_semantic_segmentation/segformer/encoder/block.1.4/attention/self/add:\n\nOperation defined at: (most recent call last)\n>>>   File \"c:\\Users\\risha\\anaconda3\\envs\\tf_new\\lib\\runpy.py\", line 194, in _run_module_as_main\n>>>     return _run_code(code, main_globals, None,\n>>> \n>>>   File \"c:\\Users\\risha\\anaconda3\\envs\\tf_new\\lib\\runpy.py\", line 87, in _run_code\n>>>     exec(code, run_globals)\n>>> \n>>>   File \"c:\\Users\\risha\\anaconda3\\envs\\tf_new\\lib\\site-packages\\ipykernel_launcher.py\", line 18, in <module>\n>>>     app.launch_new_instance()\n>>> \n>>>   File \"c:\\Users\\risha\\anaconda3\\envs\\tf_new\\lib\\site-packages\\traitlets\\config\\application.py\", line 1075, in launch_instance\n>>>     app.start()\n>>> \n>>>   File \"c:\\Users\\risha\\anaconda3\\envs\\tf_new\\lib\\site-packages\\ipykernel\\kernelapp.py\", line 739, in start\n>>>     self.io_loop.start()\n>>> \n>>>   File \"c:\\Users\\risha\\anaconda3\\envs\\tf_new\\lib\\site-packages\\tornado\\platform\\asyncio.py\", line 205, in start\n>>>     self.asyncio_loop.run_forever()\n>>> \n>>>   File \"c:\\Users\\risha\\anaconda3\\envs\\tf_new\\lib\\asyncio\\base_events.py\", line 570, in run_forever\n>>>     self._run_once()\n>>> \n>>>   File \"c:\\Users\\risha\\anaconda3\\envs\\tf_new\\lib\\asyncio\\base_events.py\", line 1859, in _run_once\n>>>     handle._run()\n>>> \n>>>   File \"c:\\Users\\risha\\anaconda3\\envs\\tf_new\\lib\\asyncio\\events.py\", line 81, in _run\n>>>     self._context.run(self._callback, *self._args)\n>>> \n>>>   File \"c:\\Users\\risha\\anaconda3\\envs\\tf_new\\lib\\site-packages\\ipykernel\\kernelbase.py\", line 545, in dispatch_queue\n>>>     await self.process_one()\n>>> \n>>>   File \"c:\\Users\\risha\\anaconda3\\envs\\tf_new\\lib\\site-packages\\ipykernel\\kernelbase.py\", line 534, in process_one\n>>>     await dispatch(*args)\n>>> \n>>>   File \"c:\\Users\\risha\\anaconda3\\envs\\tf_new\\lib\\site-packages\\ipykernel\\kernelbase.py\", line 437, in dispatch_shell\n>>>     await result\n>>> \n>>>   File \"c:\\Users\\risha\\anaconda3\\envs\\tf_new\\lib\\site-packages\\ipykernel\\ipkernel.py\", line 362, in execute_request\n>>>     await super().execute_request(stream, ident, parent)\n>>> \n>>>   File \"c:\\Users\\risha\\anaconda3\\envs\\tf_new\\lib\\site-packages\\ipykernel\\kernelbase.py\", line 778, in execute_request\n>>>     reply_content = await reply_content\n>>> \n>>>   File \"c:\\Users\\risha\\anaconda3\\envs\\tf_new\\lib\\site-packages\\ipykernel\\ipkernel.py\", line 449, in do_execute\n>>>     res = shell.run_cell(\n>>> \n>>>   File \"c:\\Users\\risha\\anaconda3\\envs\\tf_new\\lib\\site-packages\\ipykernel\\zmqshell.py\", line 549, in run_cell\n>>>     return super().run_cell(*args, **kwargs)\n>>> \n>>>   File \"c:\\Users\\risha\\anaconda3\\envs\\tf_new\\lib\\site-packages\\IPython\\core\\interactiveshell.py\", line 3009, in run_cell\n>>>     result = self._run_cell(\n>>> \n>>>   File \"c:\\Users\\risha\\anaconda3\\envs\\tf_new\\lib\\site-packages\\IPython\\core\\interactiveshell.py\", line 3064, in _run_cell\n>>>     result = runner(coro)\n>>> \n>>>   File \"c:\\Users\\risha\\anaconda3\\envs\\tf_new\\lib\\site-packages\\IPython\\core\\async_helpers.py\", line 129, in _pseudo_sync_runner\n>>>     coro.send(None)\n>>> \n>>>   File \"c:\\Users\\risha\\anaconda3\\envs\\tf_new\\lib\\site-packages\\IPython\\core\\interactiveshell.py\", line 3269, in run_cell_async\n>>>     has_raised = await self.run_ast_nodes(code_ast.body, cell_name,\n>>> \n>>>   File \"c:\\Users\\risha\\anaconda3\\envs\\tf_new\\lib\\site-packages\\IPython\\core\\interactiveshell.py\", line 3448, in run_ast_nodes\n>>>     if await self.run_code(code, result, async_=asy):\n>>> \n>>>   File \"c:\\Users\\risha\\anaconda3\\envs\\tf_new\\lib\\site-packages\\IPython\\core\\interactiveshell.py\", line 3508, in run_code\n>>>     exec(code_obj, self.user_global_ns, self.user_ns)\n>>> \n>>>   File \"C:\\Users\\risha\\AppData\\Local\\Temp\\ipykernel_17844\\2340480664.py\", line 1, in <module>\n>>>     history = model.fit(\n>>> \n>>>   File \"c:\\Users\\risha\\anaconda3\\envs\\tf_new\\lib\\site-packages\\keras\\utils\\traceback_utils.py\", line 64, in error_handler\n>>>     return fn(*args, **kwargs)\n>>> \n>>>   File \"c:\\Users\\risha\\anaconda3\\envs\\tf_new\\lib\\site-packages\\keras\\engine\\training.py\", line 1216, in fit\n>>>     tmp_logs = self.train_function(iterator)\n>>> \n>>>   File \"c:\\Users\\risha\\anaconda3\\envs\\tf_new\\lib\\site-packages\\keras\\engine\\training.py\", line 878, in train_function\n>>>     return step_function(self, iterator)\n>>> \n>>>   File \"c:\\Users\\risha\\anaconda3\\envs\\tf_new\\lib\\site-packages\\keras\\engine\\training.py\", line 867, in step_function\n>>>     outputs = model.distribute_strategy.run(run_step, args=(data,))\n>>> \n>>>   File \"c:\\Users\\risha\\anaconda3\\envs\\tf_new\\lib\\site-packages\\keras\\engine\\training.py\", line 860, in run_step\n>>>     outputs = model.train_step(data)\n>>> \n>>>   File \"c:\\Users\\risha\\anaconda3\\envs\\tf_new\\lib\\site-packages\\transformers\\modeling_tf_utils.py\", line 1398, in train_step\n>>>     y_pred = self(x, training=True)\n>>> \n>>>   File \"c:\\Users\\risha\\anaconda3\\envs\\tf_new\\lib\\site-packages\\keras\\utils\\traceback_utils.py\", line 64, in error_handler\n>>>     return fn(*args, **kwargs)\n>>> \n>>>   File \"c:\\Users\\risha\\anaconda3\\envs\\tf_new\\lib\\site-packages\\keras\\engine\\base_layer.py\", line 1083, in __call__\n>>>     outputs = call_fn(inputs, *args, **kwargs)\n>>> \n>>>   File \"c:\\Users\\risha\\anaconda3\\envs\\tf_new\\lib\\site-packages\\keras\\utils\\traceback_utils.py\", line 92, in error_handler\n>>>     return fn(*args, **kwargs)\n>>> \n>>>   File \"c:\\Users\\risha\\anaconda3\\envs\\tf_new\\lib\\site-packages\\transformers\\modeling_tf_utils.py\", line 833, in run_call_with_unpacked_inputs\n>>>     \"\"\"\n>>> \n>>>   File \"c:\\Users\\risha\\anaconda3\\envs\\tf_new\\lib\\site-packages\\transformers\\models\\segformer\\modeling_tf_segformer.py\", line 860, in call\n>>>     outputs = self.segformer(\n>>> \n>>>   File \"c:\\Users\\risha\\anaconda3\\envs\\tf_new\\lib\\site-packages\\keras\\utils\\traceback_utils.py\", line 64, in error_handler\n>>>     return fn(*args, **kwargs)\n>>> \n>>>   File \"c:\\Users\\risha\\anaconda3\\envs\\tf_new\\lib\\site-packages\\keras\\engine\\base_layer.py\", line 1083, in __call__\n>>>     outputs = call_fn(inputs, *args, **kwargs)\n>>> \n>>>   File \"c:\\Users\\risha\\anaconda3\\envs\\tf_new\\lib\\site-packages\\keras\\utils\\traceback_utils.py\", line 92, in error_handler\n>>>     return fn(*args, **kwargs)\n>>> \n>>>   File \"c:\\Users\\risha\\anaconda3\\envs\\tf_new\\lib\\site-packages\\transformers\\modeling_tf_utils.py\", line 833, in run_call_with_unpacked_inputs\n>>>     \"\"\"\n>>> \n>>>   File \"c:\\Users\\risha\\anaconda3\\envs\\tf_new\\lib\\site-packages\\transformers\\models\\segformer\\modeling_tf_segformer.py\", line 482, in call\n>>>     encoder_outputs = self.encoder(\n>>> \n>>>   File \"c:\\Users\\risha\\anaconda3\\envs\\tf_new\\lib\\site-packages\\keras\\utils\\traceback_utils.py\", line 64, in error_handler\n>>>     return fn(*args, **kwargs)\n>>> \n>>>   File \"c:\\Users\\risha\\anaconda3\\envs\\tf_new\\lib\\site-packages\\keras\\engine\\base_layer.py\", line 1083, in __call__\n>>>     outputs = call_fn(inputs, *args, **kwargs)\n>>> \n>>>   File \"c:\\Users\\risha\\anaconda3\\envs\\tf_new\\lib\\site-packages\\keras\\utils\\traceback_utils.py\", line 92, in error_handler\n>>>     return fn(*args, **kwargs)\n>>> \n>>>   File \"c:\\Users\\risha\\anaconda3\\envs\\tf_new\\lib\\site-packages\\transformers\\models\\segformer\\modeling_tf_segformer.py\", line 414, in call\n>>>     for idx, x in enumerate(zip(self.embeddings, self.block, self.layer_norms)):\n>>> \n>>>   File \"c:\\Users\\risha\\anaconda3\\envs\\tf_new\\lib\\site-packages\\transformers\\models\\segformer\\modeling_tf_segformer.py\", line 421, in call\n>>>     for i, blk in enumerate(block_layer):\n>>> \n>>>   File \"c:\\Users\\risha\\anaconda3\\envs\\tf_new\\lib\\site-packages\\transformers\\models\\segformer\\modeling_tf_segformer.py\", line 422, in call\n>>>     layer_outputs = blk(\n>>> \n>>>   File \"c:\\Users\\risha\\anaconda3\\envs\\tf_new\\lib\\site-packages\\keras\\utils\\traceback_utils.py\", line 64, in error_handler\n>>>     return fn(*args, **kwargs)\n>>> \n>>>   File \"c:\\Users\\risha\\anaconda3\\envs\\tf_new\\lib\\site-packages\\keras\\engine\\base_layer.py\", line 1083, in __call__\n>>>     outputs = call_fn(inputs, *args, **kwargs)\n>>> \n>>>   File \"c:\\Users\\risha\\anaconda3\\envs\\tf_new\\lib\\site-packages\\keras\\utils\\traceback_utils.py\", line 92, in error_handler\n>>>     return fn(*args, **kwargs)\n>>> \n>>>   File \"c:\\Users\\risha\\anaconda3\\envs\\tf_new\\lib\\site-packages\\transformers\\models\\segformer\\modeling_tf_segformer.py\", line 324, in call\n>>>     self_attention_outputs = self.attention(\n>>> \n>>>   File \"c:\\Users\\risha\\anaconda3\\envs\\tf_new\\lib\\site-packages\\keras\\utils\\traceback_utils.py\", line 64, in error_handler\n>>>     return fn(*args, **kwargs)\n>>> \n>>>   File \"c:\\Users\\risha\\anaconda3\\envs\\tf_new\\lib\\site-packages\\keras\\engine\\base_layer.py\", line 1083, in __call__\n>>>     outputs = call_fn(inputs, *args, **kwargs)\n>>> \n>>>   File \"c:\\Users\\risha\\anaconda3\\envs\\tf_new\\lib\\site-packages\\keras\\utils\\traceback_utils.py\", line 92, in error_handler\n>>>     return fn(*args, **kwargs)\n>>> \n>>>   File \"c:\\Users\\risha\\anaconda3\\envs\\tf_new\\lib\\site-packages\\transformers\\models\\segformer\\modeling_tf_segformer.py\", line 232, in call\n>>>     self_outputs = self.self(hidden_states, height, width, output_attentions)\n>>> \n>>>   File \"c:\\Users\\risha\\anaconda3\\envs\\tf_new\\lib\\site-packages\\keras\\utils\\traceback_utils.py\", line 64, in error_handler\n>>>     return fn(*args, **kwargs)\n>>> \n>>>   File \"c:\\Users\\risha\\anaconda3\\envs\\tf_new\\lib\\site-packages\\keras\\engine\\base_layer.py\", line 1083, in __call__\n>>>     outputs = call_fn(inputs, *args, **kwargs)\n>>> \n>>>   File \"c:\\Users\\risha\\anaconda3\\envs\\tf_new\\lib\\site-packages\\keras\\utils\\traceback_utils.py\", line 92, in error_handler\n>>>     return fn(*args, **kwargs)\n>>> \n>>>   File \"c:\\Users\\risha\\anaconda3\\envs\\tf_new\\lib\\site-packages\\transformers\\models\\segformer\\modeling_tf_segformer.py\", line 182, in call\n>>>     attention_probs = stable_softmax(logits=attention_scores, axis=-1)\n>>> \n>>>   File \"c:\\Users\\risha\\anaconda3\\envs\\tf_new\\lib\\site-packages\\transformers\\tf_utils.py\", line 70, in stable_softmax\n>>>     return tf.nn.softmax(logits=logits + 1e-9, axis=axis, name=name)\n>>> \n\nFunction call stack:\ntrain_function -> train_function\n"
     ]
    }
   ],
   "source": [
    "history = model.fit(\n",
    "    train_ds,\n",
    "    validation_data=val_ds,\n",
    "    epochs=num_epochs,\n",
    "    callbacks=callbacks,\n",
    ")"
   ]
  },
  {
   "cell_type": "code",
   "execution_count": null,
   "metadata": {},
   "outputs": [],
   "source": []
  }
 ],
 "metadata": {
  "kernelspec": {
   "display_name": "tf_new",
   "language": "python",
   "name": "python3"
  },
  "language_info": {
   "codemirror_mode": {
    "name": "ipython",
    "version": 3
   },
   "file_extension": ".py",
   "mimetype": "text/x-python",
   "name": "python",
   "nbconvert_exporter": "python",
   "pygments_lexer": "ipython3",
   "version": "3.8.20"
  }
 },
 "nbformat": 4,
 "nbformat_minor": 4
}
